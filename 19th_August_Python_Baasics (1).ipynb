{
 "cells": [
  {
   "cell_type": "code",
   "execution_count": 1,
   "id": "ccdd78ce-cf9a-4ac8-b7d2-e67c95ad07a5",
   "metadata": {},
   "outputs": [
    {
     "name": "stdout",
     "output_type": "stream",
     "text": [
      "20\n",
      "10\n"
     ]
    }
   ],
   "source": [
    "x=10\n",
    "y=20\n",
    "x=x+y\n",
    "y=x-y\n",
    "x=x-y\n",
    "print(x)\n",
    "print(y)\n"
   ]
  },
  {
   "cell_type": "code",
   "execution_count": 3,
   "id": "075c2b6e-481d-44e0-8e76-f6359df40ea4",
   "metadata": {},
   "outputs": [
    {
     "name": "stdin",
     "output_type": "stream",
     "text": [
      "enter the length of the rectangle: 10\n",
      "enter the width of the rectangle: 20\n"
     ]
    },
    {
     "name": "stdout",
     "output_type": "stream",
     "text": [
      "the area of the rectangle is:  200\n"
     ]
    }
   ],
   "source": [
    "length=int(input(\"enter the length of the rectangle:\"))\n",
    "width=int(input(\"enter the width of the rectangle:\"))\n",
    "area=length*width\n",
    "print(\"the area of the rectangle is: \",area)"
   ]
  },
  {
   "cell_type": "code",
   "execution_count": 4,
   "id": "08da21cb-de1e-4a6d-995c-ce12e9e6f9f5",
   "metadata": {},
   "outputs": [
    {
     "name": "stdin",
     "output_type": "stream",
     "text": [
      "enter temperature in celcius: 27\n"
     ]
    },
    {
     "name": "stdout",
     "output_type": "stream",
     "text": [
      "temperature in farenheit is:  80.6\n"
     ]
    }
   ],
   "source": [
    "cel_temp=int(input(\"enter temperature in celcius:\"))\n",
    "faren_temp=1.8*cel_temp+32\n",
    "print(\"temperature in farenheit is: \",faren_temp)\n",
    "             "
   ]
  },
  {
   "cell_type": "code",
   "execution_count": 5,
   "id": "e616d845-c138-44ea-8736-580c460b49b6",
   "metadata": {},
   "outputs": [
    {
     "name": "stdin",
     "output_type": "stream",
     "text": [
      "enter a string: hello how are you\n"
     ]
    },
    {
     "name": "stdout",
     "output_type": "stream",
     "text": [
      "17\n"
     ]
    }
   ],
   "source": [
    "new_string=input(\"enter a string:\")\n",
    "print(len(new_string))"
   ]
  },
  {
   "cell_type": "code",
   "execution_count": 9,
   "id": "d326aa95-a5e9-4025-a2b3-666e6e8b5a07",
   "metadata": {},
   "outputs": [
    {
     "name": "stdin",
     "output_type": "stream",
     "text": [
      "enter a sentence: how are you\n"
     ]
    },
    {
     "name": "stdout",
     "output_type": "stream",
     "text": [
      "the number of vowel in the sentence is:  5\n"
     ]
    }
   ],
   "source": [
    "str1=input(\"enter a sentence:\")\n",
    "count=0\n",
    "for l in str1:\n",
    "    if l=='a' or l=='e' or l=='i' or l=='o' or l=='u':\n",
    "        count=count+1\n",
    "print(\"the number of vowel in the sentence is: \",count)"
   ]
  },
  {
   "cell_type": "code",
   "execution_count": 10,
   "id": "53503b5d-9a21-44cb-bc6e-380107518a22",
   "metadata": {},
   "outputs": [
    {
     "name": "stdin",
     "output_type": "stream",
     "text": [
      "enter a string: hello\n"
     ]
    },
    {
     "name": "stdout",
     "output_type": "stream",
     "text": [
      "olleh\n"
     ]
    }
   ],
   "source": [
    "str2=input(\"enter a string:\")\n",
    "str3=str2[::-1]\n",
    "print(str3)"
   ]
  },
  {
   "cell_type": "raw",
   "id": "c70ca77c-fbbf-4b4e-aa96-220751d02404",
   "metadata": {},
   "source": [
    "\n"
   ]
  },
  {
   "cell_type": "code",
   "execution_count": null,
   "id": "72e1267f-e6bf-42e8-b028-9f46b14a51f5",
   "metadata": {},
   "outputs": [],
   "source": [
    "str4=input(\"enter a string:\")\n",
    "str5=str4[::-1]\n",
    "if str4==str5:\n",
    "    print(\"it's palindrome\")\n",
    "else:\n",
    "    print(\"it's not a palindrome\")"
   ]
  },
  {
   "cell_type": "code",
   "execution_count": null,
   "id": "3f68b2e5-4605-4d37-9a1c-54eb43bdee47",
   "metadata": {},
   "outputs": [],
   "source": [
    "str6=input(\"enter a new string:\")\n",
    "str7=str6.replace(\" \",\"\")\n",
    "print(str7)"
   ]
  },
  {
   "cell_type": "code",
   "execution_count": null,
   "id": "2e584dd7-de19-4806-aac4-1812d8344bcd",
   "metadata": {},
   "outputs": [],
   "source": []
  }
 ],
 "metadata": {
  "kernelspec": {
   "display_name": "Python 3 (ipykernel)",
   "language": "python",
   "name": "python3"
  },
  "language_info": {
   "codemirror_mode": {
    "name": "ipython",
    "version": 3
   },
   "file_extension": ".py",
   "mimetype": "text/x-python",
   "name": "python",
   "nbconvert_exporter": "python",
   "pygments_lexer": "ipython3",
   "version": "3.10.8"
  }
 },
 "nbformat": 4,
 "nbformat_minor": 5
}
